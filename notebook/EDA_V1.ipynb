{
 "cells": [
  {
   "cell_type": "code",
   "execution_count": null,
   "id": "167786ee",
   "metadata": {},
   "outputs": [],
   "source": [
    "import pandas as pd\n",
    "import seaborn as sns\n",
    "import matplotlib.pyplot as plt \n",
    "from sklearn.preprocessing import OneHotEncoder,MinMaxScaler\n",
    "from sklearn.model_selection import train_test_split\n",
    "from sklearn.linear_model import LogisticRegression\n",
    "from sklearn.ensemble import RandomForestClassifier\n",
    "from sklearn.feature_extraction import DictVectorizer\n",
    "from sklearn.metrics import accuracy_score,confusion_matrix,classification_report,PrecisionRecallDisplay\n",
    "import xgboost as xgb"
   ]
  },
  {
   "cell_type": "code",
   "execution_count": null,
   "id": "fe25ed05",
   "metadata": {},
   "outputs": [],
   "source": [
    "df=pd.read_csv('../datasets/Churn_Modelling.csv',index_col=False)"
   ]
  },
  {
   "cell_type": "code",
   "execution_count": null,
   "id": "8f1d921e",
   "metadata": {},
   "outputs": [],
   "source": [
    "df.head()"
   ]
  },
  {
   "cell_type": "code",
   "execution_count": null,
   "id": "544613ca",
   "metadata": {},
   "outputs": [],
   "source": [
    "df.info()"
   ]
  },
  {
   "cell_type": "code",
   "execution_count": null,
   "id": "8ab5d17b",
   "metadata": {
    "scrolled": true
   },
   "outputs": [],
   "source": [
    "df.columns"
   ]
  },
  {
   "cell_type": "code",
   "execution_count": null,
   "id": "0cb2fd75",
   "metadata": {},
   "outputs": [],
   "source": [
    "for col in df.columns:\n",
    "    print(df[col].value_counts())"
   ]
  },
  {
   "cell_type": "code",
   "execution_count": null,
   "id": "08d5cd9c",
   "metadata": {},
   "outputs": [],
   "source": [
    "df['NumOfProducts'].unique()"
   ]
  },
  {
   "cell_type": "code",
   "execution_count": null,
   "id": "b776a4c9",
   "metadata": {},
   "outputs": [],
   "source": [
    "df['NumOfProducts'].describe()"
   ]
  },
  {
   "cell_type": "code",
   "execution_count": null,
   "id": "d93a6036",
   "metadata": {},
   "outputs": [],
   "source": [
    "df.hist(figsize=(20,12),bins=100)"
   ]
  },
  {
   "cell_type": "code",
   "execution_count": null,
   "id": "d03b7734",
   "metadata": {},
   "outputs": [],
   "source": [
    "df_churn=df.drop(['RowNumber','CustomerId','Surname'],axis=1)"
   ]
  },
  {
   "cell_type": "code",
   "execution_count": null,
   "id": "bd050fa8",
   "metadata": {},
   "outputs": [],
   "source": [
    "df_churn.describe()"
   ]
  },
  {
   "cell_type": "code",
   "execution_count": null,
   "id": "952e3b31",
   "metadata": {
    "scrolled": true
   },
   "outputs": [],
   "source": [
    "sns.countplot(x='Exited',hue='Gender',data=df_churn)"
   ]
  },
  {
   "cell_type": "code",
   "execution_count": null,
   "id": "9713e455",
   "metadata": {},
   "outputs": [],
   "source": [
    "corr=df_churn.corr()"
   ]
  },
  {
   "cell_type": "code",
   "execution_count": null,
   "id": "baedc607",
   "metadata": {},
   "outputs": [],
   "source": [
    "f,ax=plt.subplots(figsize=(20,12))\n",
    "sns.heatmap(corr,vmax=0.8,annot=True,cmap='Blues')"
   ]
  },
  {
   "cell_type": "code",
   "execution_count": null,
   "id": "5116a99d",
   "metadata": {},
   "outputs": [],
   "source": [
    "plt.figure(figsize=(20,12))\n",
    "plt.subplot(411)\n",
    "sns.countplot(x='HasCrCard',hue='Exited',data=df_churn)\n",
    "\n",
    "plt.subplot(412)\n",
    "sns.countplot(x='IsActiveMember',hue='Exited',data=df_churn)\n",
    "plt.subplot(413)\n",
    "sns.countplot(x='Tenure',hue='Exited',data=df_churn)"
   ]
  },
  {
   "cell_type": "code",
   "execution_count": null,
   "id": "cd3fdded",
   "metadata": {
    "scrolled": true
   },
   "outputs": [],
   "source": [
    "plt.figure(figsize=(20,12))\n",
    "sns.countplot(x='Geography',hue='Exited',data=df_churn)"
   ]
  },
  {
   "cell_type": "code",
   "execution_count": null,
   "id": "ae0ef670",
   "metadata": {
    "scrolled": true
   },
   "outputs": [],
   "source": [
    "plt.figure(figsize=(20,12))\n",
    "sns.kdeplot(df_churn[df_churn['Exited']==1]['EstimatedSalary'],label='Exited',color='r',shade=True)\n",
    "sns.kdeplot(df_churn[df_churn['Exited']==0]['EstimatedSalary'],label='Stayed',color='b',shade=True)\n",
    "\n",
    "plt.xlabel('EstimatedSalary')"
   ]
  },
  {
   "cell_type": "markdown",
   "id": "6812a278",
   "metadata": {},
   "source": [
    "### Feature Engineering"
   ]
  },
  {
   "cell_type": "code",
   "execution_count": null,
   "id": "4b71a8e6",
   "metadata": {},
   "outputs": [],
   "source": [
    "df_churn.info()"
   ]
  },
  {
   "cell_type": "markdown",
   "id": "eee2cfa4",
   "metadata": {},
   "source": [
    "1.toarray returns an ndarray from a sparse matrix"
   ]
  },
  {
   "cell_type": "code",
   "execution_count": null,
   "id": "e458397a",
   "metadata": {},
   "outputs": [],
   "source": [
    "#We can use OneHotEncoder to transform categorical variables into numerical variables.\n",
    "onehot=OneHotEncoder()\n",
    "X_number=df_churn.drop(['Geography','Gender'],axis=1)\n",
    "X_category=onehot.fit_transform(df_churn[['Geography','Gender']]).toarray()\n",
    "X_cat=pd.DataFrame(X_category)"
   ]
  },
  {
   "cell_type": "code",
   "execution_count": null,
   "id": "7a4e3d54",
   "metadata": {},
   "outputs": [],
   "source": [
    "X_all=pd.concat([X_cat,X_number],axis=1)"
   ]
  },
  {
   "cell_type": "code",
   "execution_count": null,
   "id": "30666519",
   "metadata": {
    "scrolled": true
   },
   "outputs": [],
   "source": [
    "X_all.head()"
   ]
  },
  {
   "cell_type": "code",
   "execution_count": null,
   "id": "79db439e",
   "metadata": {
    "scrolled": true
   },
   "outputs": [],
   "source": [
    "#split the dataset\n",
    "y=df_churn['Exited']\n",
    "X_all=X_all.drop(['Exited'],axis=1)"
   ]
  },
  {
   "cell_type": "code",
   "execution_count": null,
   "id": "854f8af7",
   "metadata": {},
   "outputs": [],
   "source": [
    "scaler=MinMaxScaler()\n",
    "X_all_scaled=scaler.fit_transform(X_all)"
   ]
  },
  {
   "cell_type": "code",
   "execution_count": null,
   "id": "bf134fb3",
   "metadata": {},
   "outputs": [],
   "source": [
    "X_all_scaled"
   ]
  },
  {
   "cell_type": "code",
   "execution_count": null,
   "id": "b0afd268",
   "metadata": {},
   "outputs": [],
   "source": [
    "#splitting the X_all \n",
    "X_train,X_test,y_train,y_test=train_test_split(X_all_scaled,y,test_size=0.3,random_state=0)"
   ]
  },
  {
   "cell_type": "code",
   "execution_count": null,
   "id": "f6c44734",
   "metadata": {},
   "outputs": [],
   "source": [
    "y_test.shape"
   ]
  },
  {
   "cell_type": "code",
   "execution_count": null,
   "id": "b752542c",
   "metadata": {
    "scrolled": true
   },
   "outputs": [],
   "source": [
    "#Logistic Regression\n",
    "logreg=LogisticRegression()\n",
    "logreg.fit(X_train,y_train)\n",
    "y_pred=logreg.predict(X_test)"
   ]
  },
  {
   "cell_type": "code",
   "execution_count": null,
   "id": "ae878b6a",
   "metadata": {
    "scrolled": true
   },
   "outputs": [],
   "source": [
    "print('Accuracy for the logistic regression is : {:.2f}%'.format(100* accuracy_score(y_test,y_pred)))"
   ]
  },
  {
   "cell_type": "code",
   "execution_count": null,
   "id": "8c50ed7d",
   "metadata": {},
   "outputs": [],
   "source": [
    "#confusion matrix heatmap\n",
    "con_matrix=confusion_matrix(y_test,y_pred)\n",
    "sns.heatmap(con_matrix,annot=True)"
   ]
  },
  {
   "cell_type": "code",
   "execution_count": null,
   "id": "0034e618",
   "metadata": {
    "scrolled": true
   },
   "outputs": [],
   "source": [
    "#classification report\n",
    "print(classification_report(y_test,y_pred))"
   ]
  },
  {
   "cell_type": "markdown",
   "id": "1126150c",
   "metadata": {},
   "source": [
    "### RandomForest Classification HyperParameter Tuning"
   ]
  },
  {
   "cell_type": "code",
   "execution_count": null,
   "id": "382f6e52",
   "metadata": {},
   "outputs": [],
   "source": [
    "## We can try with another model\n",
    "# Random Forest\n",
    "rf = RandomForestClassifier(n_estimators = 100, random_state = 0)\n",
    "rf.fit(X_train, y_train)\n",
    "\n",
    "y_pred = rf.predict(X_test)\n"
   ]
  },
  {
   "cell_type": "code",
   "execution_count": null,
   "id": "fb3b36cd",
   "metadata": {},
   "outputs": [],
   "source": []
  },
  {
   "cell_type": "code",
   "execution_count": null,
   "id": "f82dab14",
   "metadata": {},
   "outputs": [],
   "source": [
    "#confusion matrix heatmap\n",
    "con_matrix=confusion_matrix(y_test,y_pred)\n",
    "sns.heatmap(con_matrix,annot=True)"
   ]
  },
  {
   "cell_type": "code",
   "execution_count": null,
   "id": "ac0f1da9",
   "metadata": {
    "scrolled": true
   },
   "outputs": [],
   "source": [
    "print(classification_report(y_test,y_pred))"
   ]
  },
  {
   "cell_type": "code",
   "execution_count": null,
   "id": "44290a0b",
   "metadata": {},
   "outputs": [],
   "source": [
    "print('Accuracy for the Random Forest Classifier is : {:.2f}%'.format(100* accuracy_score(y_test,y_pred)))"
   ]
  },
  {
   "cell_type": "markdown",
   "id": "38eada02",
   "metadata": {},
   "source": [
    "#### Using Scikit-Learn’s RandomizedSearchCV method, we can define a grid of hyperparameter ranges, and randomly sample from the grid, performing K-Fold CV with each combination of values."
   ]
  },
  {
   "cell_type": "code",
   "execution_count": null,
   "id": "f2a4b663",
   "metadata": {
    "scrolled": true
   },
   "outputs": [],
   "source": [
    "from pprint import pprint\n",
    "rf=RandomForestClassifier(random_state=42)\n",
    "\n",
    "pprint(rf.get_params())"
   ]
  },
  {
   "cell_type": "code",
   "execution_count": null,
   "id": "dccd3191",
   "metadata": {},
   "outputs": [],
   "source": [
    "import numpy as np\n",
    "from sklearn.model_selection import RandomizedSearchCV\n",
    "\n",
    "n_estimators=[int(x) for x in np.linspace(start=0,stop=1000,num=10)]\n",
    "max_features=['sqrt','log2']\n",
    "max_depth=[int(x) for x in np.linspace(start=10,stop=110,num=11)]\n",
    "max_depth.append(None)\n",
    "min_samples_split=[2,5,10]\n",
    "min_samples_leaf=[1,2,4]\n",
    "bootstrap=[True,False]\n",
    "\n",
    "random_grid={\n",
    "    'n_estimators':n_estimators,\n",
    "    'max_features':max_features,\n",
    "    'max_depth':max_depth,\n",
    "    'min_samples_split':min_samples_split,\n",
    "    'min_samples_leaf':min_samples_leaf,\n",
    "    'bootstrap':bootstrap\n",
    "}\n",
    "pprint(random_grid)"
   ]
  },
  {
   "cell_type": "code",
   "execution_count": null,
   "id": "1822b8bf",
   "metadata": {},
   "outputs": [],
   "source": [
    "rf_new=RandomForestClassifier()\n",
    "rf_random=RandomizedSearchCV(estimator=rf_new,param_distributions=random_grid,n_iter=100,cv=3,random_state=42)"
   ]
  },
  {
   "cell_type": "code",
   "execution_count": null,
   "id": "464dd1a6",
   "metadata": {},
   "outputs": [],
   "source": [
    "rf_random.fit(X_train,y_train)"
   ]
  },
  {
   "cell_type": "code",
   "execution_count": null,
   "id": "6d370897",
   "metadata": {},
   "outputs": [],
   "source": [
    "best_params=rf_random.best_params_"
   ]
  },
  {
   "cell_type": "code",
   "execution_count": null,
   "id": "f4c1162c",
   "metadata": {},
   "outputs": [],
   "source": [
    "best_params"
   ]
  },
  {
   "cell_type": "code",
   "execution_count": null,
   "id": "610af8f5",
   "metadata": {},
   "outputs": [],
   "source": [
    "rfc = RandomForestClassifier(n_estimators = 111,min_samples_split=5,min_samples_leaf=1,max_features='log2',max_depth=30,bootstrap=True, random_state = 0)\n",
    "rfc.fit(X_train, y_train)\n",
    "\n",
    "y_predc = rfc.predict(X_test)\n"
   ]
  },
  {
   "cell_type": "code",
   "execution_count": null,
   "id": "1b22df24",
   "metadata": {},
   "outputs": [],
   "source": [
    "print('Accuracy for the Random Forest Classifier is : {:.2f}%'.format(100* accuracy_score(y_test,y_predc)))"
   ]
  },
  {
   "cell_type": "markdown",
   "id": "f58f834b",
   "metadata": {},
   "source": [
    "### XGBoost Classifier"
   ]
  },
  {
   "cell_type": "code",
   "execution_count": null,
   "id": "d4fd8acf",
   "metadata": {},
   "outputs": [],
   "source": [
    "model=xgb.XGBClassifier()\n",
    "model.fit(X_train,y_train)"
   ]
  },
  {
   "cell_type": "code",
   "execution_count": null,
   "id": "e252cee5",
   "metadata": {},
   "outputs": [],
   "source": [
    "pred_xgb=model.predict(X_test)"
   ]
  },
  {
   "cell_type": "code",
   "execution_count": null,
   "id": "b71dd913",
   "metadata": {},
   "outputs": [],
   "source": [
    "## Evaluation of thais model\n",
    "print('Accuracy of XGBoost classifier on test set: {:.2f}%'.format(100* accuracy_score(y_test, pred_xgb)))"
   ]
  },
  {
   "cell_type": "code",
   "execution_count": null,
   "id": "1d12b436",
   "metadata": {
    "scrolled": true
   },
   "outputs": [],
   "source": [
    "cm=confusion_matrix(y_test,pred_xgb)\n",
    "sns.heatmap(cm,annot=True)"
   ]
  },
  {
   "cell_type": "code",
   "execution_count": null,
   "id": "65d0e524",
   "metadata": {},
   "outputs": [],
   "source": [
    "print(classification_report(y_test,pred_xgb))"
   ]
  },
  {
   "cell_type": "markdown",
   "id": "4e85e3fe",
   "metadata": {},
   "source": [
    "| This | is   |\n",
    "|------|------|\n",
    "|   a  | table|"
   ]
  },
  {
   "cell_type": "markdown",
   "id": "141cacff",
   "metadata": {},
   "source": [
    "|Value | Model | Precision | Recall | F1-score|\n",
    "|------|------|------|------|------|\n",
    "|0| Logistic Regression |0.88| 0.96 |0.92|\n",
    "|1|  Logistic Regression| 0.76|0.51  |   0.61|\n",
    "|0| RandomForestClassifier|0.88 |0.96  |0.92|\n",
    "|1| RandomForestClassifier|0.76 |0.51  |0.61|\n",
    "|0| RandomForestClassifier|0.88 |0.96  |0.92|\n",
    "|0| XGBoost Classifier|0.89 |0.95  |0.91|\n",
    "|1| XGBoost Classifier|0.72|0.53   |   0.61"
   ]
  },
  {
   "cell_type": "code",
   "execution_count": null,
   "id": "fb0c52d6",
   "metadata": {},
   "outputs": [],
   "source": [
    "df.info()"
   ]
  },
  {
   "cell_type": "code",
   "execution_count": null,
   "id": "bf995508",
   "metadata": {},
   "outputs": [],
   "source": [
    "df_churn2=pd.read_csv('datasets/Churn_Modelling.csv',index_col=False)\n",
    "df_churn2=df_churn2.drop(['RowNumber','CustomerId','Surname'],axis=1)\n",
    "\n",
    "categorical=['Geography','Gender']\n",
    "numerical=['CreditScore','Age','Tenure','Balance','NumOfProducts','HasCrCard', 'IsActiveMember', 'EstimatedSalary']\n",
    "\n",
    "df_train_all,df_test=train_test_split(df_churn2,test_size=0.3,random_state=0)\n",
    "\n",
    "y_train_all=df_train_all.Exited.astype(int).values\n",
    "y_test=df_test.Exited.astype(int).values\n",
    "\n",
    "df_train,df_val=train_test_split(df_train_all,test_size=0.3,random_state=0)\n",
    "y_train=df_train.Exited.astype(int).values\n",
    "y_val=df_val.Exited.astype(int).values\n",
    "\n",
    "##Use Dict Vectorizer to transform categorical variables into numerical variables\n",
    "\n",
    "# The class DictVectorizer can be used to convert feature arrays represented as lists of standard \n",
    "# Python dict objects to the NumPy/SciPy representation used by scikit-learn estimators.\n",
    "\n",
    "train_dicts = df_train[categorical + numerical].to_dict(orient = 'records')\n",
    "\n",
    "dv=DictVectorizer()\n",
    "X_train=dv.fit_transform(train_dicts)"
   ]
  },
  {
   "cell_type": "code",
   "execution_count": null,
   "id": "c888545d",
   "metadata": {},
   "outputs": [],
   "source": [
    "rf = RandomForestClassifier(n_estimators = 100, random_state = 0)\n",
    "rf.fit(X_train, y_train)\n"
   ]
  },
  {
   "cell_type": "code",
   "execution_count": null,
   "id": "2e578870",
   "metadata": {},
   "outputs": [],
   "source": [
    "val_dicts=df_val[categorical+numerical].to_dict(orient='records')\n",
    "X_val=dv.transform(val_dicts)\n",
    "y_pred = rf.predict_proba(X_val)[:,1]"
   ]
  },
  {
   "cell_type": "code",
   "execution_count": null,
   "id": "5e136148",
   "metadata": {},
   "outputs": [],
   "source": [
    "y_pred"
   ]
  },
  {
   "cell_type": "code",
   "execution_count": null,
   "id": "4a630bd3",
   "metadata": {},
   "outputs": [],
   "source": [
    "from sklearn.metrics import roc_auc_score\n",
    "roc_auc_score(y_val, y_pred)"
   ]
  },
  {
   "cell_type": "code",
   "execution_count": null,
   "id": "63958327",
   "metadata": {
    "scrolled": true
   },
   "outputs": [],
   "source": [
    "from sklearn.pipeline import make_pipeline\n",
    "\n",
    "pipeline=make_pipeline(\n",
    "DictVectorizer(),RandomForestClassifier(n_estimators=100,random_state=0)\n",
    ")\n",
    "pipeline.fit(train_dicts,y_train)"
   ]
  },
  {
   "cell_type": "code",
   "execution_count": null,
   "id": "dc6b1e38",
   "metadata": {},
   "outputs": [],
   "source": [
    "y_pred=pipeline.predict_proba(val_dicts)[:,1]\n",
    "\n",
    "roc_auc_score(y_val,y_pred)"
   ]
  },
  {
   "cell_type": "markdown",
   "id": "56251cf9",
   "metadata": {},
   "source": [
    "### Saving the model\n"
   ]
  },
  {
   "cell_type": "code",
   "execution_count": null,
   "id": "2c9fc7b2",
   "metadata": {},
   "outputs": [],
   "source": [
    "import pickle\n",
    "with open('models/pipeline.bin','wb') as f:\n",
    "    pickle.dump(pipeline,f)"
   ]
  },
  {
   "cell_type": "markdown",
   "id": "abe1171d",
   "metadata": {},
   "source": [
    "### Testing out the model\n"
   ]
  },
  {
   "cell_type": "code",
   "execution_count": null,
   "id": "3c28eb1f",
   "metadata": {},
   "outputs": [],
   "source": [
    "customer = {'CreditScore': 597,\n",
    " 'Geography': 'Germany',\n",
    " 'Gender': 'Female',\n",
    " 'Age': 35,\n",
    " 'Tenure': 8,\n",
    " 'Balance': 131101.04,\n",
    " 'NumOfProducts': 1,\n",
    " 'HasCrCard': 1,\n",
    " 'IsActiveMember': 1,\n",
    " 'EstimatedSalary': 192852.67,\n",
    " 'Exited': 0}"
   ]
  },
  {
   "cell_type": "code",
   "execution_count": null,
   "id": "cbadf1eb",
   "metadata": {},
   "outputs": [],
   "source": [
    "customer"
   ]
  },
  {
   "cell_type": "code",
   "execution_count": null,
   "id": "e551434c",
   "metadata": {},
   "outputs": [],
   "source": [
    "pipeline.predict_proba(customer)[0,1]"
   ]
  }
 ],
 "metadata": {
  "kernelspec": {
   "display_name": "Python 3",
   "language": "python",
   "name": "python3"
  },
  "language_info": {
   "codemirror_mode": {
    "name": "ipython",
    "version": 3
   },
   "file_extension": ".py",
   "mimetype": "text/x-python",
   "name": "python",
   "nbconvert_exporter": "python",
   "pygments_lexer": "ipython3",
   "version": "3.8.8"
  },
  "vscode": {
   "interpreter": {
    "hash": "89c6f305310f92fe80c5b0e511f458771b9cf64c38dcbbcf56e8037983a391d3"
   }
  }
 },
 "nbformat": 4,
 "nbformat_minor": 5
}
